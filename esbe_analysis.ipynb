{
 "cells": [
  {
   "cell_type": "code",
   "execution_count": null,
   "metadata": {},
   "outputs": [],
   "source": [
    "from pathlib import Path\n",
    "from lib.uo_cli_wrapper import UOCliWrapper\n",
    "\n",
    "workdir = Path().resolve()\n",
    "print(f\"Working directory: {workdir}\")\n",
    "\n",
    "analysis_dir = workdir / 'esbe'\n",
    "if not workdir.exists():\n",
    "    workdir.mkdir()\n",
    "\n",
    "template_data_dir = workdir.parent / 'data' / 'templates'\n",
    "\n",
    "print(f\"template_data_dir: {template_data_dir}\")\n",
    "\n",
    "# autoreload the dependencies here when they\n",
    "# change (specifically the uo_cli_wrapper.py file)\n",
    "%load_ext autoreload\n",
    "%autoreload 2"
   ]
  },
  {
   "attachments": {},
   "cell_type": "markdown",
   "metadata": {},
   "source": [
    "### Activity 0: Did everything install correctly?"
   ]
  },
  {
   "cell_type": "code",
   "execution_count": null,
   "metadata": {},
   "outputs": [],
   "source": [
    "baseline_analysis_dir = analysis_dir / 'activity_0'\n",
    "if not baseline_analysis_dir.exists():\n",
    "    baseline_analysis_dir.mkdir()\n",
    "    \n",
    "uo_coincident = UOCliWrapper(baseline_analysis_dir, 'coincident', template_dir=template_data_dir)\n",
    "uo_diverse = UOCliWrapper(baseline_analysis_dir, 'diverse', template_dir=template_data_dir)\n",
    "\n",
    "# Just print out one to make sure it looks right.\n",
    "uo_coincident.info()"
   ]
  },
  {
   "attachments": {},
   "cell_type": "markdown",
   "metadata": {},
   "source": [
    "### Activity 1: Example projects"
   ]
  },
  {
   "cell_type": "code",
   "execution_count": null,
   "metadata": {},
   "outputs": [],
   "source": [
    "activity_1_analysis_dir = analysis_dir / 'activity_1'\n",
    "if not activity_1_analysis_dir.exists():\n",
    "    activity_1_analysis_dir.mkdir()\n",
    "\n",
    "uo_coincident = UOCliWrapper(activity_1_analysis_dir, 'coincident', template_dir=template_data_dir)\n",
    "uo_diverse = UOCliWrapper(activity_1_analysis_dir, 'diverse', template_dir=template_data_dir)\n",
    "\n",
    "uo_coincident.create_example_coincident_project()\n",
    "uo_diverse.create_example_diverse_project()\n",
    "\n",
    "# run sims faster\n",
    "uo_coincident.set_number_parallel(8)\n",
    "uo_diverse.set_number_parallel(8)\n",
    "\n",
    "# copy over the weather files\n",
    "uo_coincident.copy_over_weather()\n",
    "uo_diverse.copy_over_weather()\n",
    "\n",
    "# change weather file in mapper file\n",
    "uo_coincident.replace_weather_file_in_mapper('base_workflow.osw', 'Lecco_IT_TMY', 'ASHRAE 169-2013-4A')\n",
    "uo_diverse.replace_weather_file_in_mapper('base_workflow.osw', 'Lecco_IT_TMY', 'ASHRAE 169-2013-4A')"
   ]
  },
  {
   "cell_type": "code",
   "execution_count": null,
   "metadata": {},
   "outputs": [],
   "source": [
    "# Run the diverse baseline scenario\n",
    "uo_coincident.run('class_project_coincident.json', 'baseline_scenario.csv')"
   ]
  },
  {
   "cell_type": "code",
   "execution_count": null,
   "metadata": {},
   "outputs": [],
   "source": [
    "# Run the diverse baseline scenario\n",
    "uo_diverse.run('class_project_diverse.json', 'baseline_scenario.csv')"
   ]
  },
  {
   "cell_type": "code",
   "execution_count": null,
   "metadata": {},
   "outputs": [],
   "source": [
    "# post process the scenarios for both projects\n",
    "uo_coincident.process_scenario('class_project_coincident.json', 'baseline_scenario.csv')\n",
    "uo_diverse.process_scenario('class_project_diverse.json', 'baseline_scenario.csv')"
   ]
  },
  {
   "cell_type": "code",
   "execution_count": null,
   "metadata": {},
   "outputs": [],
   "source": [
    "# visualize both the projects\n",
    "uo_coincident.visualize_feature('class_project_coincident.json')\n",
    "uo_diverse.visualize_feature('class_project_diverse.json')"
   ]
  },
  {
   "attachments": {},
   "cell_type": "markdown",
   "metadata": {},
   "source": [
    "### Activity 2 EEMs\n"
   ]
  },
  {
   "cell_type": "code",
   "execution_count": null,
   "metadata": {},
   "outputs": [],
   "source": [
    "# This is the same as above, but in a new directory\n",
    "activity_2_analysis_dir = analysis_dir / 'activity_2'\n",
    "if not activity_2_analysis_dir.exists():\n",
    "    activity_2_analysis_dir.mkdir()\n",
    "\n",
    "uo_coincident = UOCliWrapper(activity_2_analysis_dir, 'coincident', template_dir=template_data_dir)\n",
    "\n",
    "uo_coincident.create_example_coincident_project()\n",
    "\n",
    "# run sims faster\n",
    "uo_coincident.set_number_parallel(12)\n",
    "\n",
    "# copy over the weather files\n",
    "uo_coincident.copy_over_weather()\n",
    "\n",
    "# change weather file in mapper file\n",
    "uo_coincident.replace_weather_file_in_mapper('base_workflow.osw', 'Lecco_IT_TMY', 'ASHRAE 169-2013-4A')\n",
    "\n",
    "# Create the scenarios\n",
    "uo_coincident.create_scenarios('class_project_coincident.json')\n",
    "\n"
   ]
  },
  {
   "cell_type": "code",
   "execution_count": null,
   "metadata": {},
   "outputs": [],
   "source": [
    "# manually enable some of the measures in the ClassProject.rb file\n",
    "\n",
    "# The need to create a new mapper (per the instructions) is not needed, since there is\n",
    "# a classproject_secnario.csv, just run that one.\n",
    "\n",
    "# temp -- run the baseline, because this is a new directory (old data are missing)\n",
    "uo_coincident.run('class_project_coincident.json', 'baseline_scenario.csv')\n",
    "uo_coincident.run('class_project_coincident.json', 'classproject_scenario.csv')\n"
   ]
  },
  {
   "cell_type": "code",
   "execution_count": null,
   "metadata": {},
   "outputs": [],
   "source": [
    "# process the scenarios\n",
    "uo_coincident.process_scenario('class_project_coincident.json', 'baseline_scenario.csv')\n",
    "uo_coincident.process_scenario('class_project_coincident.json', 'classproject_scenario.csv')\n",
    "\n",
    "# create the scenario and feature visualizations\n",
    "uo_coincident.visualize_scenario('class_project_coincident.json', 'baseline_scenario.csv')\n",
    "uo_coincident.visualize_scenario('class_project_coincident.json', 'classproject_scenario.csv')\n",
    "\n",
    "# and then the feature visualization to compare\n",
    "uo_coincident.visualize_feature('class_project_coincident.json')"
   ]
  },
  {
   "attachments": {},
   "cell_type": "markdown",
   "metadata": {},
   "source": [
    "### Activity 3: REopt"
   ]
  },
  {
   "cell_type": "code",
   "execution_count": null,
   "metadata": {},
   "outputs": [],
   "source": [
    "# This is the same as above, but in a new directory\n",
    "activity_3_analysis_dir = analysis_dir / 'activity_3'\n",
    "if not activity_3_analysis_dir.exists():\n",
    "    activity_3_analysis_dir.mkdir()\n",
    "\n",
    "uo_coincident = UOCliWrapper(activity_3_analysis_dir, 'coincident', template_dir=template_data_dir)\n",
    "\n",
    "uo_coincident.create_example_coincident_project()\n",
    "\n",
    "# run sims faster\n",
    "uo_coincident.set_number_parallel(12)\n",
    "\n",
    "# copy over the weather files\n",
    "uo_coincident.copy_over_weather()\n",
    "\n",
    "# change weather file in mapper file\n",
    "uo_coincident.replace_weather_file_in_mapper('base_workflow.osw', 'Lecco_IT_TMY', 'ASHRAE 169-2013-4A')\n",
    "\n",
    "# Create the scenarios\n",
    "uo_coincident.create_scenarios('class_project_coincident.json')\n"
   ]
  },
  {
   "cell_type": "code",
   "execution_count": null,
   "metadata": {},
   "outputs": [],
   "source": [
    "# Run the baseline (again, new folder, so new data are needed)\n",
    "uo_coincident.run('class_project_coincident.json', 'baseline_scenario.csv')\n",
    "\n",
    "# post process/visualize the baseline\n",
    "uo_coincident.process_scenario('class_project_coincident.json', 'baseline_scenario.csv')\n",
    "uo_coincident.visualize_scenario('class_project_coincident.json', 'baseline_scenario.csv')\n",
    "uo_coincident.visualize_feature('class_project_coincident.json')\n"
   ]
  },
  {
   "cell_type": "code",
   "execution_count": null,
   "metadata": {},
   "outputs": [],
   "source": [
    "# Create the scenario mapper file that is enabled with the REopt assumptions\n",
    "uo_coincident.create_reopt_scenario('class_project_coincident.json', 'baseline_scenario.csv')\n",
    "\n",
    "# Confirm in the REopt_baseline_scenario file that the REopt assumptions are now enabled (look for the REopt Assumptions section) in the file"
   ]
  },
  {
   "cell_type": "code",
   "execution_count": null,
   "metadata": {},
   "outputs": [],
   "source": [
    "# Run the REopt baseline scenario\n",
    "uo_coincident.run('class_project_coincident.json', 'REopt_baseline_scenario.csv')\n"
   ]
  },
  {
   "cell_type": "code",
   "execution_count": null,
   "metadata": {},
   "outputs": [],
   "source": [
    "# if the REopt errors with cert issues, then look at this help site,\n",
    "#   But where do you run the bundle update command?\n",
    "#   https://docs.urbanopt.net/developer_resources/known_issues.html\n",
    "\n",
    "# Also, try to access the reopt site directly to make sure the API is correct\n",
    "#  https://developer.nrel.gov/api/reopt/v1/?API_KEY=ganRGlzka5XeOnae21cepxb1vkIX57fCsGc6x2EZ\n",
    "\n",
    "uo_coincident.process_reopt_scenario('class_project_coincident.json', 'REopt_baseline_scenario.csv', individual_features=False)\n",
    "uo_coincident.process_reopt_scenario('class_project_coincident.json', 'REopt_baseline_scenario.csv', individual_features=True)"
   ]
  },
  {
   "attachments": {},
   "cell_type": "markdown",
   "metadata": {},
   "source": [
    "### Gather the data for the OSA / PAT files\n"
   ]
  },
  {
   "cell_type": "code",
   "execution_count": null,
   "metadata": {},
   "outputs": [],
   "source": [
    "# read in the feature file\n",
    "import json\n",
    "import shutil\n",
    "\n",
    "# get the results from the activity 3 folder\n",
    "uo_coincident = UOCliWrapper(analysis_dir / 'activity_3', 'coincident', template_dir=template_data_dir)\n",
    "activity_pat_analysis_dir = analysis_dir / 'activity_2_pat'\n",
    "if not activity_pat_analysis_dir.exists():\n",
    "    activity_pat_analysis_dir.mkdir()\n",
    "\n",
    "feature_data = uo_coincident.project_path / 'class_project_coincident.json'\n",
    "run_path = uo_coincident.project_path / 'run' / 'baseline_scenario' \n",
    "\n",
    "files_to_copy = []\n",
    "\n",
    "feature_json = None\n",
    "\n",
    "with open(feature_data, 'r') as f:\n",
    "    feature_json = json.load(f)\n",
    "\n",
    "    for feature in feature_json['features']:\n",
    "        if feature['properties']['type'] == 'Building':\n",
    "            feature_id = feature['properties']['id']\n",
    "            feature_name = feature['properties']['name']\n",
    "\n",
    "            # go to the run directory and grab the OSM file\n",
    "            osm_file = run_path / feature_id / 'in.osm'\n",
    "            new_filename = f'{feature_name}.osm'\n",
    "            files_to_copy.append({ \n",
    "                'base_dir': 'seeds',\n",
    "                'feature_name': feature_name,\n",
    "                'file': osm_file,\n",
    "                'new_filename': new_filename,\n",
    "            })\n",
    "    \n",
    "    # copy all the files in the directory\n",
    "    files = (uo_coincident.project_path / 'weather').glob('*')\n",
    "    for file in files:\n",
    "        files_to_copy.append({\n",
    "            'base_dir': 'weather',\n",
    "            'file': file,\n",
    "            'new_filename': file.name,\n",
    "        })\n",
    "    \n",
    "        \n",
    "    \n",
    "print(files_to_copy)\n",
    "for base_dir in (file['base_dir'] for file in files_to_copy):\n",
    "    if not (activity_pat_analysis_dir / base_dir).exists():\n",
    "        (activity_pat_analysis_dir / base_dir).mkdir()\n",
    "    \n",
    "for file in files_to_copy:\n",
    "    shutil.copy(file['file'], activity_pat_analysis_dir / file['base_dir'] / file['new_filename'])\n",
    "\n",
    "\n",
    "# NOW FOR THE CRAZY PART...\n",
    "\n",
    "# Run the uo_building_to_osa.rb file to convert the osa data. Then grab the measures from\n",
    "# that result and place int he activity_2_pat folder\n",
    "\n",
    "\n"
   ]
  },
  {
   "cell_type": "code",
   "execution_count": null,
   "metadata": {},
   "outputs": [],
   "source": []
  }
 ],
 "metadata": {
  "kernelspec": {
   "display_name": "3.10.6-dc",
   "language": "python",
   "name": "python3"
  },
  "language_info": {
   "codemirror_mode": {
    "name": "ipython",
    "version": 3
   },
   "file_extension": ".py",
   "mimetype": "text/x-python",
   "name": "python",
   "nbconvert_exporter": "python",
   "pygments_lexer": "ipython3",
   "version": "3.11.3"
  },
  "orig_nbformat": 4
 },
 "nbformat": 4,
 "nbformat_minor": 2
}
